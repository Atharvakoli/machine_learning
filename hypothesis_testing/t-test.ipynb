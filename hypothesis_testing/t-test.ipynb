{
 "cells": [
  {
   "cell_type": "code",
   "execution_count": 1,
   "id": "5884f24b-2a93-44ad-a80f-cf495642ba96",
   "metadata": {},
   "outputs": [],
   "source": [
    "import numpy as np\n",
    "from scipy import stats"
   ]
  },
  {
   "cell_type": "code",
   "execution_count": 2,
   "id": "9a073e35-b280-4e97-8cb2-e875de65f546",
   "metadata": {},
   "outputs": [],
   "source": [
    "sample =  [172, 174, 168, 169, 171, 173, 175, 170, 169, 172] \n",
    "sample_mean = np.mean(sample)\n",
    "sample_std = np.std(sample, ddof=1)\n",
    "n = len(sample)\n",
    "mean_population = 170\n"
   ]
  },
  {
   "cell_type": "code",
   "execution_count": 3,
   "id": "4f8bfa27-1e7a-45da-8df7-2bb3e6fbbdc8",
   "metadata": {},
   "outputs": [
    {
     "data": {
      "text/plain": [
       "1.7782469350914734"
      ]
     },
     "execution_count": 3,
     "metadata": {},
     "output_type": "execute_result"
    }
   ],
   "source": [
    "t_stats = (sample_mean - mean_population) / (sample_std / np.sqrt(n))\n",
    "t_stats"
   ]
  },
  {
   "cell_type": "code",
   "execution_count": 4,
   "id": "ad721150-2c36-42cc-a36a-7650632841ed",
   "metadata": {},
   "outputs": [],
   "source": [
    "p_value = 2 * (1 - stats.t.cdf(abs(t_stats), df=n-1))\n",
    "alpha = 0.05"
   ]
  },
  {
   "cell_type": "code",
   "execution_count": 5,
   "id": "69c62a88-c242-486b-9405-3df18bcba0e8",
   "metadata": {},
   "outputs": [
    {
     "name": "stdout",
     "output_type": "stream",
     "text": [
      "We will Accept the null hypothesis\n"
     ]
    }
   ],
   "source": [
    "if p_value < alpha:\n",
    "    print(\"We will Reject the null hypothesis\")\n",
    "else:\n",
    "    print(\"We will Accept the null hypothesis\")"
   ]
  },
  {
   "cell_type": "code",
   "execution_count": null,
   "id": "0ae7c871-228f-4f68-934f-c1cde2dba20f",
   "metadata": {},
   "outputs": [],
   "source": []
  }
 ],
 "metadata": {
  "kernelspec": {
   "display_name": "Python 3 (ipykernel)",
   "language": "python",
   "name": "python3"
  },
  "language_info": {
   "codemirror_mode": {
    "name": "ipython",
    "version": 3
   },
   "file_extension": ".py",
   "mimetype": "text/x-python",
   "name": "python",
   "nbconvert_exporter": "python",
   "pygments_lexer": "ipython3",
   "version": "3.12.7"
  }
 },
 "nbformat": 4,
 "nbformat_minor": 5
}
