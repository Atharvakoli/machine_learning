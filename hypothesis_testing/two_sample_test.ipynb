{
 "cells": [
  {
   "cell_type": "code",
   "execution_count": 1,
   "id": "3d591aff-1f06-4736-a7d1-8b1c7def555d",
   "metadata": {},
   "outputs": [],
   "source": [
    "import numpy as np \n",
    "from scipy import stats"
   ]
  },
  {
   "cell_type": "code",
   "execution_count": 2,
   "id": "6d5672f1-d019-449f-bdb6-2e6373e90f21",
   "metadata": {},
   "outputs": [],
   "source": [
    "groupA = [85, 88, 90, 92, 87, 85, 89, 91, 86, 88]\n",
    "groupB = [82, 84, 80, 83, 81, 79, 78, 85, 84, 83]"
   ]
  },
  {
   "cell_type": "code",
   "execution_count": 3,
   "id": "a28ad26a-fb74-453e-ad7d-0eb13e22956c",
   "metadata": {},
   "outputs": [],
   "source": [
    "t_stats, p_value = stats.ttest_ind(groupA, groupB, equal_var=False)"
   ]
  },
  {
   "cell_type": "code",
   "execution_count": 4,
   "id": "8fec9b35-ffbc-44f3-a559-e33a8fca755f",
   "metadata": {},
   "outputs": [
    {
     "data": {
      "text/plain": [
       "5.829604009507161"
      ]
     },
     "execution_count": 4,
     "metadata": {},
     "output_type": "execute_result"
    }
   ],
   "source": [
    "t_stats"
   ]
  },
  {
   "cell_type": "code",
   "execution_count": 5,
   "id": "f0a2d3c6-2a9c-4dfc-ba68-247a96eaab01",
   "metadata": {},
   "outputs": [],
   "source": [
    "alpha = 0.05"
   ]
  },
  {
   "cell_type": "code",
   "execution_count": 6,
   "id": "13b2776a-ab20-4aec-a63e-483d6f6fab32",
   "metadata": {},
   "outputs": [
    {
     "name": "stdout",
     "output_type": "stream",
     "text": [
      "I will Reject th null hypothesis\n"
     ]
    }
   ],
   "source": [
    "if p_value < alpha:\n",
    "    print(\"I will Reject th null hypothesis\")\n",
    "else:\n",
    "    print(\"I will Accept th null hypothesis\")"
   ]
  },
  {
   "cell_type": "code",
   "execution_count": null,
   "id": "9459c566-2f55-4d27-8483-2e317b152c03",
   "metadata": {},
   "outputs": [],
   "source": []
  }
 ],
 "metadata": {
  "kernelspec": {
   "display_name": "Python 3 (ipykernel)",
   "language": "python",
   "name": "python3"
  },
  "language_info": {
   "codemirror_mode": {
    "name": "ipython",
    "version": 3
   },
   "file_extension": ".py",
   "mimetype": "text/x-python",
   "name": "python",
   "nbconvert_exporter": "python",
   "pygments_lexer": "ipython3",
   "version": "3.12.7"
  }
 },
 "nbformat": 4,
 "nbformat_minor": 5
}
