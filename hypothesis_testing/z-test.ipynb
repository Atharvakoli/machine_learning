{
 "cells": [
  {
   "cell_type": "code",
   "execution_count": 1,
   "id": "f62bd14b-6f4e-4bec-8200-579a779d4c14",
   "metadata": {},
   "outputs": [],
   "source": [
    "import numpy as np\n",
    "from scipy.stats import norm # z-value"
   ]
  },
  {
   "cell_type": "code",
   "execution_count": 6,
   "id": "74bd1bfa-eb95-42c8-ad69-a605519c3adc",
   "metadata": {},
   "outputs": [],
   "source": [
    "sample =  [172, 174, 168, 169, 171, 173, 175, 170, 169, 172] \n",
    "# for z-test you sample size should be greater than 30 and std of population should be given then only we should use Z-tes\n",
    "population_mean = 170\n",
    "population_std = 3\n",
    "sample_mean = np.mean(sample)\n",
    "n = len(sample)"
   ]
  },
  {
   "cell_type": "code",
   "execution_count": 7,
   "id": "a3332628-c1af-4dc6-a0ef-8e726e62fdee",
   "metadata": {},
   "outputs": [
    {
     "data": {
      "text/plain": [
       "1.3703203194063098"
      ]
     },
     "execution_count": 7,
     "metadata": {},
     "output_type": "execute_result"
    }
   ],
   "source": [
    "z_score = (sample_mean - population_mean) / (population_std / np.sqrt(n))\n",
    "z_score"
   ]
  },
  {
   "cell_type": "code",
   "execution_count": 9,
   "id": "a73765e5-1789-4d02-8e44-24bd09219f79",
   "metadata": {},
   "outputs": [
    {
     "data": {
      "text/plain": [
       "0.17058693287143756"
      ]
     },
     "execution_count": 9,
     "metadata": {},
     "output_type": "execute_result"
    }
   ],
   "source": [
    "p_value = 2 * (1 - norm.cdf(abs(z_score)))\n",
    "p_value"
   ]
  },
  {
   "cell_type": "code",
   "execution_count": 10,
   "id": "4be8cf9e-87cc-4185-9baa-2b29a2e2f074",
   "metadata": {},
   "outputs": [
    {
     "name": "stdout",
     "output_type": "stream",
     "text": [
      "Accept the null hypothesis\n"
     ]
    }
   ],
   "source": [
    "# If value my p-value is less than alpha, I am going to reject null hypothesis and accept \n",
    "# the alternate hypothesis\n",
    "alpha = 0.05 \n",
    "\n",
    "if p_value < alpha:\n",
    "    print(\"I'm rejecting the null hypothesis\")\n",
    "else:\n",
    "    print(\"Accept the null hypothesis\")\n",
    "    "
   ]
  },
  {
   "cell_type": "code",
   "execution_count": null,
   "id": "2b41bada-3507-4787-a4b3-eaf61cfaeaa1",
   "metadata": {},
   "outputs": [],
   "source": []
  }
 ],
 "metadata": {
  "kernelspec": {
   "display_name": "Python 3 (ipykernel)",
   "language": "python",
   "name": "python3"
  },
  "language_info": {
   "codemirror_mode": {
    "name": "ipython",
    "version": 3
   },
   "file_extension": ".py",
   "mimetype": "text/x-python",
   "name": "python",
   "nbconvert_exporter": "python",
   "pygments_lexer": "ipython3",
   "version": "3.12.7"
  }
 },
 "nbformat": 4,
 "nbformat_minor": 5
}
